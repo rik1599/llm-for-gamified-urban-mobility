{
 "cells": [
  {
   "cell_type": "code",
   "execution_count": 1,
   "id": "0ac8f1b6",
   "metadata": {},
   "outputs": [],
   "source": [
    "import numpy as np\n",
    "import pandas as pd\n",
    "from sklearn.metrics import accuracy_score, recall_score, precision_score, f1_score\n",
    "from transformers import TrainingArguments, Trainer\n",
    "from datasets import ClassLabel\n",
    "from transformers import AutoTokenizer\n",
    "from tqdm.auto import tqdm\n",
    "tqdm.pandas()\n",
    "pd.set_option('display.max_columns', None)\n",
    "\n",
    "import numpy as np\n",
    "from transformers import AutoConfig, AutoModelForSequenceClassification\n",
    "from datasets import Dataset\n",
    "# os.environ[\"CUDA_VISIBLE_DEVICES\"] = \"0\"\n",
    "import warnings\n",
    "warnings.filterwarnings('ignore')"
   ]
  },
  {
   "cell_type": "code",
   "execution_count": 2,
   "id": "a3bafdb8",
   "metadata": {},
   "outputs": [],
   "source": [
    "dataset = pd.read_parquet(f\"../data/parquet/dataset.parquet\")\n",
    "labels = dataset['target'].unique().tolist()\n",
    "lconv = ClassLabel(num_classes=len(labels), names=labels)\n",
    "\n",
    "train = dataset.sample(frac=0.90, random_state=42).reset_index(drop=True)\n",
    "test = dataset.drop(train.index).reset_index(drop=True)"
   ]
  },
  {
   "cell_type": "code",
   "execution_count": 3,
   "id": "a012245b",
   "metadata": {},
   "outputs": [],
   "source": [
    "# Just for test purposes\n",
    "# train = train.head(10)\n",
    "# test = test.head(2)"
   ]
  },
  {
   "cell_type": "code",
   "execution_count": 3,
   "id": "3a8fa21f",
   "metadata": {},
   "outputs": [
    {
     "name": "stdout",
     "output_type": "stream",
     "text": [
      "Dataset({\n",
      "    features: ['text', 'target'],\n",
      "    num_rows: 46706\n",
      "})\n"
     ]
    }
   ],
   "source": [
    "train['target'] = train['target'].apply(lambda x: lconv.str2int(x))\n",
    "train['text'] = train['text'].astype(str)\n",
    "train['target'] = train['target'].astype(int)\n",
    "ds_train = Dataset.from_pandas(train)\n",
    "print(ds_train)"
   ]
  },
  {
   "cell_type": "code",
   "execution_count": 4,
   "id": "a02d0596",
   "metadata": {
    "scrolled": false
   },
   "outputs": [
    {
     "name": "stderr",
     "output_type": "stream",
     "text": [
      "Some weights of the model checkpoint at bert-base-uncased were not used when initializing BertForSequenceClassification: ['cls.seq_relationship.bias', 'cls.predictions.transform.dense.weight', 'cls.predictions.bias', 'cls.seq_relationship.weight', 'cls.predictions.transform.LayerNorm.bias', 'cls.predictions.transform.dense.bias', 'cls.predictions.transform.LayerNorm.weight', 'cls.predictions.decoder.weight']\n",
      "- This IS expected if you are initializing BertForSequenceClassification from the checkpoint of a model trained on another task or with another architecture (e.g. initializing a BertForSequenceClassification model from a BertForPreTraining model).\n",
      "- This IS NOT expected if you are initializing BertForSequenceClassification from the checkpoint of a model that you expect to be exactly identical (initializing a BertForSequenceClassification model from a BertForSequenceClassification model).\n",
      "Some weights of BertForSequenceClassification were not initialized from the model checkpoint at bert-base-uncased and are newly initialized: ['classifier.bias', 'classifier.weight']\n",
      "You should probably TRAIN this model on a down-stream task to be able to use it for predictions and inference.\n"
     ]
    }
   ],
   "source": [
    "model_name = 'bert-base-uncased' \n",
    "tokenizer = AutoTokenizer.from_pretrained(model_name, cache_dir=\"/mnt/dmif-nas/SMDC/HF-Cache/\")\n",
    "config = AutoConfig.from_pretrained(model_name, num_labels=len(labels), cache_dir=\"/mnt/dmif-nas/SMDC/HF-Cache/\")\n",
    "model = AutoModelForSequenceClassification.from_pretrained(model_name, config=config, cache_dir=\"/mnt/dmif-nas/SMDC/HF-Cache/\")"
   ]
  },
  {
   "cell_type": "code",
   "execution_count": 5,
   "id": "5fbf8e61",
   "metadata": {},
   "outputs": [
    {
     "data": {
      "application/vnd.jupyter.widget-view+json": {
       "model_id": "81beb51f25154f18b8b37b29de1e9027",
       "version_major": 2,
       "version_minor": 0
      },
      "text/plain": [
       "  0%|          | 0/47 [00:00<?, ?ba/s]"
      ]
     },
     "metadata": {},
     "output_type": "display_data"
    },
    {
     "data": {
      "text/plain": [
       "Dataset({\n",
       "    features: ['text', 'target', 'labels', 'input_ids', 'token_type_ids', 'attention_mask'],\n",
       "    num_rows: 46706\n",
       "})"
      ]
     },
     "execution_count": 5,
     "metadata": {},
     "output_type": "execute_result"
    }
   ],
   "source": [
    "def tokenize_function(examples):\n",
    "    examples['labels'] = examples['target']\n",
    "    examples = examples['text']\n",
    "    tok = tokenizer.batch_encode_plus(examples, padding=True, truncation=True)\n",
    "    return tok\n",
    "tokenized_train = ds_train.map(tokenize_function, batched=True)\n",
    "tokenized_train"
   ]
  },
  {
   "cell_type": "code",
   "execution_count": 7,
   "id": "508c1d7b",
   "metadata": {},
   "outputs": [
    {
     "data": {
      "application/vnd.jupyter.widget-view+json": {
       "model_id": "3b8f10dd91f44c1eba74c0d50113ff3c",
       "version_major": 2,
       "version_minor": 0
      },
      "text/plain": [
       "  0%|          | 0/1 [00:00<?, ?ba/s]"
      ]
     },
     "metadata": {},
     "output_type": "display_data"
    },
    {
     "data": {
      "text/plain": [
       "Dataset({\n",
       "    features: ['text', 'target', 'labels', 'input_ids', 'token_type_ids', 'attention_mask'],\n",
       "    num_rows: 2\n",
       "})"
      ]
     },
     "execution_count": 7,
     "metadata": {},
     "output_type": "execute_result"
    }
   ],
   "source": [
    "# validation\n",
    "test['target'] = test['target'].apply(lambda x: lconv.str2int(x))\n",
    "test['text'] = test['text'].astype(str)\n",
    "test['target'] = test['target'].astype(int)\n",
    "ds_test = Dataset.from_pandas(test)\n",
    "tokenized_val = ds_test.map(tokenize_function, batched=True)\n",
    "tokenized_val"
   ]
  },
  {
   "cell_type": "code",
   "execution_count": 8,
   "id": "3b4c2223",
   "metadata": {},
   "outputs": [
    {
     "name": "stderr",
     "output_type": "stream",
     "text": [
      "The following columns in the training set  don't have a corresponding argument in `BertForSequenceClassification.forward` and have been ignored: text, target. If text, target are not expected by `BertForSequenceClassification.forward`,  you can safely ignore this message.\n",
      "***** Running training *****\n",
      "  Num examples = 10\n",
      "  Num Epochs = 3\n",
      "  Instantaneous batch size per device = 2\n",
      "  Total train batch size (w. parallel, distributed & accumulation) = 2\n",
      "  Gradient Accumulation steps = 1\n",
      "  Total optimization steps = 15\n"
     ]
    },
    {
     "data": {
      "text/html": [
       "\n",
       "    <div>\n",
       "      \n",
       "      <progress value='15' max='15' style='width:300px; height:20px; vertical-align: middle;'></progress>\n",
       "      [15/15 00:01, Epoch 3/3]\n",
       "    </div>\n",
       "    <table border=\"1\" class=\"dataframe\">\n",
       "  <thead>\n",
       " <tr style=\"text-align: left;\">\n",
       "      <th>Epoch</th>\n",
       "      <th>Training Loss</th>\n",
       "      <th>Validation Loss</th>\n",
       "      <th>Accuracy</th>\n",
       "      <th>Mse</th>\n",
       "      <th>Micro Precision</th>\n",
       "      <th>Macro Precision</th>\n",
       "      <th>Weighted Precision</th>\n",
       "      <th>Micro Recall</th>\n",
       "      <th>Macro Recall</th>\n",
       "      <th>Weighted Recall</th>\n",
       "      <th>Micro F1</th>\n",
       "      <th>Macro F1</th>\n",
       "      <th>Weighted F1</th>\n",
       "    </tr>\n",
       "  </thead>\n",
       "  <tbody>\n",
       "    <tr>\n",
       "      <td>1</td>\n",
       "      <td>No log</td>\n",
       "      <td>1.285860</td>\n",
       "      <td>0.000000</td>\n",
       "      <td>9.000000</td>\n",
       "      <td>0.000000</td>\n",
       "      <td>0.000000</td>\n",
       "      <td>0.000000</td>\n",
       "      <td>0.000000</td>\n",
       "      <td>0.000000</td>\n",
       "      <td>0.000000</td>\n",
       "      <td>0.000000</td>\n",
       "      <td>0.000000</td>\n",
       "      <td>0.000000</td>\n",
       "    </tr>\n",
       "    <tr>\n",
       "      <td>2</td>\n",
       "      <td>No log</td>\n",
       "      <td>1.029806</td>\n",
       "      <td>0.000000</td>\n",
       "      <td>9.000000</td>\n",
       "      <td>0.000000</td>\n",
       "      <td>0.000000</td>\n",
       "      <td>0.000000</td>\n",
       "      <td>0.000000</td>\n",
       "      <td>0.000000</td>\n",
       "      <td>0.000000</td>\n",
       "      <td>0.000000</td>\n",
       "      <td>0.000000</td>\n",
       "      <td>0.000000</td>\n",
       "    </tr>\n",
       "    <tr>\n",
       "      <td>3</td>\n",
       "      <td>No log</td>\n",
       "      <td>0.959206</td>\n",
       "      <td>1.000000</td>\n",
       "      <td>0.000000</td>\n",
       "      <td>1.000000</td>\n",
       "      <td>1.000000</td>\n",
       "      <td>1.000000</td>\n",
       "      <td>1.000000</td>\n",
       "      <td>1.000000</td>\n",
       "      <td>1.000000</td>\n",
       "      <td>1.000000</td>\n",
       "      <td>1.000000</td>\n",
       "      <td>1.000000</td>\n",
       "    </tr>\n",
       "  </tbody>\n",
       "</table><p>"
      ],
      "text/plain": [
       "<IPython.core.display.HTML object>"
      ]
     },
     "metadata": {},
     "output_type": "display_data"
    },
    {
     "name": "stderr",
     "output_type": "stream",
     "text": [
      "The following columns in the evaluation set  don't have a corresponding argument in `BertForSequenceClassification.forward` and have been ignored: text, target. If text, target are not expected by `BertForSequenceClassification.forward`,  you can safely ignore this message.\n",
      "***** Running Evaluation *****\n",
      "  Num examples = 2\n",
      "  Batch size = 8\n",
      "The following columns in the evaluation set  don't have a corresponding argument in `BertForSequenceClassification.forward` and have been ignored: text, target. If text, target are not expected by `BertForSequenceClassification.forward`,  you can safely ignore this message.\n",
      "***** Running Evaluation *****\n",
      "  Num examples = 2\n",
      "  Batch size = 8\n",
      "The following columns in the evaluation set  don't have a corresponding argument in `BertForSequenceClassification.forward` and have been ignored: text, target. If text, target are not expected by `BertForSequenceClassification.forward`,  you can safely ignore this message.\n",
      "***** Running Evaluation *****\n",
      "  Num examples = 2\n",
      "  Batch size = 8\n",
      "\n",
      "\n",
      "Training completed. Do not forget to share your model on huggingface.co/models =)\n",
      "\n",
      "\n"
     ]
    },
    {
     "data": {
      "text/plain": [
       "TrainOutput(global_step=15, training_loss=1.1838915506998697, metrics={'train_runtime': 1.2263, 'train_samples_per_second': 24.464, 'train_steps_per_second': 12.232, 'total_flos': 755436854340.0, 'train_loss': 1.1838915506998697, 'epoch': 3.0})"
      ]
     },
     "execution_count": 8,
     "metadata": {},
     "output_type": "execute_result"
    }
   ],
   "source": [
    "from sklearn.metrics import mean_squared_error\n",
    "\n",
    "def compute_metrics(eval_pred):\n",
    "    predictions, labels = eval_pred\n",
    "    pred = np.argmax(predictions, axis=-1)\n",
    "    \n",
    "    return {\n",
    "        \"accuracy\": accuracy_score(y_true=labels, y_pred=pred), \n",
    "        \"MSE\": mean_squared_error(y_true=labels, y_pred=pred),\n",
    "        #\n",
    "        \"micro_precision\": precision_score(y_true=labels, y_pred=pred, average='micro'), \n",
    "        \"macro_precision\": precision_score(y_true=labels, y_pred=pred, average='macro'), \n",
    "        \"weighted_precision\": precision_score(y_true=labels, y_pred=pred, average='weighted'), \n",
    "        #\n",
    "        \"micro_recall\": recall_score(y_true=labels, y_pred=pred, average='micro'), \n",
    "        \"macro_recall\": recall_score(y_true=labels, y_pred=pred, average='macro'), \n",
    "        \"weighted_recall\": recall_score(y_true=labels, y_pred=pred, average='weighted'), \n",
    "        #\n",
    "        \"micro_f1\": f1_score(y_true=labels, y_pred=pred, average='micro'), \n",
    "        \"macro_f1\": f1_score(y_true=labels, y_pred=pred, average='macro'), \n",
    "        \"weighted_f1\": f1_score(y_true=labels, y_pred=pred, average='weighted'), \n",
    "    }\n",
    "\n",
    "args = TrainingArguments(\n",
    "    output_dir='/mnt/dmif-nas/SMDC/HF-tmp/',\n",
    "    evaluation_strategy = \"epoch\",\n",
    "    save_strategy=\"no\",\n",
    "    num_train_epochs=3,\n",
    "    no_cuda=False,\n",
    "    per_device_train_batch_size=2,\n",
    ")\n",
    "\n",
    "class CustomTrainer(Trainer):\n",
    "    def compute_loss(self, *args, **kwargs):\n",
    "        return super().compute_loss(*args, **kwargs)\n",
    "\n",
    "trainer = CustomTrainer(\n",
    "    model,\n",
    "    args,\n",
    "    train_dataset=tokenized_train,\n",
    "    eval_dataset= tokenized_val,\n",
    "    tokenizer=tokenizer,\n",
    "    compute_metrics=compute_metrics\n",
    ")\n",
    "trainer.train()"
   ]
  },
  {
   "cell_type": "code",
   "execution_count": null,
   "id": "072bd994",
   "metadata": {},
   "outputs": [],
   "source": [
    "model_path = \"../models/BERT/\"\n",
    "model.save_pretrained(model_path)\n",
    "tokenizer.save_pretrained(model_path)\n",
    "config.save_pretrained(model_path)"
   ]
  }
 ],
 "metadata": {
  "kernelspec": {
   "display_name": ".venv",
   "language": "python",
   "name": "python3"
  },
  "language_info": {
   "codemirror_mode": {
    "name": "ipython",
    "version": 3
   },
   "file_extension": ".py",
   "mimetype": "text/x-python",
   "name": "python",
   "nbconvert_exporter": "python",
   "pygments_lexer": "ipython3",
   "version": "3.6.9"
  }
 },
 "nbformat": 4,
 "nbformat_minor": 5
}
