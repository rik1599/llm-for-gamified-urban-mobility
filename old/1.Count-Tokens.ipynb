{
 "cells": [
  {
   "cell_type": "code",
   "execution_count": 1,
   "id": "0ac8f1b6",
   "metadata": {},
   "outputs": [],
   "source": [
    "import numpy as np\n",
    "import pandas as pd\n",
    "from transformers import AutoTokenizer\n",
    "from tqdm.auto import tqdm\n",
    "tqdm.pandas()\n",
    "pd.set_option('display.max_columns', None)\n",
    "\n",
    "# os.environ[\"CUDA_VISIBLE_DEVICES\"] = \"0\"\n",
    "import warnings\n",
    "warnings.filterwarnings('ignore')"
   ]
  },
  {
   "cell_type": "code",
   "execution_count": 2,
   "id": "bdf52630",
   "metadata": {},
   "outputs": [
    {
     "data": {
      "text/html": [
       "<div>\n",
       "<style scoped>\n",
       "    .dataframe tbody tr th:only-of-type {\n",
       "        vertical-align: middle;\n",
       "    }\n",
       "\n",
       "    .dataframe tbody tr th {\n",
       "        vertical-align: top;\n",
       "    }\n",
       "\n",
       "    .dataframe thead th {\n",
       "        text-align: right;\n",
       "    }\n",
       "</style>\n",
       "<table border=\"1\" class=\"dataframe\">\n",
       "  <thead>\n",
       "    <tr style=\"text-align: right;\">\n",
       "      <th></th>\n",
       "      <th>text</th>\n",
       "      <th>target</th>\n",
       "    </tr>\n",
       "  </thead>\n",
       "  <tbody>\n",
       "    <tr>\n",
       "      <th>0</th>\n",
       "      <td>City: Lecco. No trips.</td>\n",
       "      <td>walk</td>\n",
       "    </tr>\n",
       "    <tr>\n",
       "      <th>1</th>\n",
       "      <td>City: Lecco. Trips: (Time: 233. Vehicle: walk....</td>\n",
       "      <td>walk</td>\n",
       "    </tr>\n",
       "    <tr>\n",
       "      <th>2</th>\n",
       "      <td>City: Lecco. Trips: (Time: 141. Vehicle: walk....</td>\n",
       "      <td>walk</td>\n",
       "    </tr>\n",
       "    <tr>\n",
       "      <th>3</th>\n",
       "      <td>City: Lecco. Trips: (Time: 402. Vehicle: walk....</td>\n",
       "      <td>walk</td>\n",
       "    </tr>\n",
       "    <tr>\n",
       "      <th>4</th>\n",
       "      <td>City: Lecco. Trips: (Time: 838. Vehicle: walk....</td>\n",
       "      <td>walk</td>\n",
       "    </tr>\n",
       "  </tbody>\n",
       "</table>\n",
       "</div>"
      ],
      "text/plain": [
       "                                                text target\n",
       "0                             City: Lecco. No trips.   walk\n",
       "1  City: Lecco. Trips: (Time: 233. Vehicle: walk....   walk\n",
       "2  City: Lecco. Trips: (Time: 141. Vehicle: walk....   walk\n",
       "3  City: Lecco. Trips: (Time: 402. Vehicle: walk....   walk\n",
       "4  City: Lecco. Trips: (Time: 838. Vehicle: walk....   walk"
      ]
     },
     "execution_count": 2,
     "metadata": {},
     "output_type": "execute_result"
    }
   ],
   "source": [
    "df = pd.read_parquet('../data/parquet/dataset.parquet')\n",
    "df.head()"
   ]
  },
  {
   "cell_type": "code",
   "execution_count": 3,
   "id": "fff911a3",
   "metadata": {},
   "outputs": [],
   "source": [
    "tokenizer_t5 = AutoTokenizer.from_pretrained('t5-base', use_fast=True, cache_dir=\"/mnt/dmif-nas/SMDC/HF-Cache/\")\n",
    "#tokenizer_bert = AutoTokenizer.from_pretrained('bert-base-uncased', use_fast=True, cache_dir=\"/mnt/dmif-nas/SMDC/HF-Cache/\")\n",
    "#tokenizer_gpt = AutoTokenizer.from_pretrained('gpt2', use_fast=True, cache_dir=\"/mnt/dmif-nas/SMDC/HF-Cache/\")"
   ]
  },
  {
   "cell_type": "code",
   "execution_count": 4,
   "id": "8ef55d29",
   "metadata": {},
   "outputs": [
    {
     "data": {
      "application/vnd.jupyter.widget-view+json": {
       "model_id": "96a5cc9c32bc4b7e91e4acc99db5e532",
       "version_major": 2,
       "version_minor": 0
      },
      "text/plain": [
       "  0%|          | 0/54948 [00:00<?, ?it/s]"
      ]
     },
     "metadata": {},
     "output_type": "display_data"
    },
    {
     "name": "stdout",
     "output_type": "stream",
     "text": [
      "max number of tokens for T5 is 490/512\n"
     ]
    }
   ],
   "source": [
    "def get_num_tokens(x, tokenizer):\n",
    "    x = x['text']\n",
    "    x = len(tokenizer.tokenize(x))\n",
    "    return x\n",
    "\n",
    "df['tokens_t5'] = df.progress_apply(lambda x: get_num_tokens(x, tokenizer=tokenizer_t5), axis=1)\n",
    "print(f\"max number of tokens for T5 is {np.max(df['tokens_t5'])}/512\")\n",
    "#df['tokens_bert'] = df.progress_apply(lambda x: get_num_tokens(x, tokenizer=tokenizer_bert), axis=1)\n",
    "#print(f\"max number of tokens for BERT is {np.max(df['tokens_bert'])}\")\n",
    "#df['tokens_gpt2'] = df.progress_apply(lambda x: get_num_tokens(x, tokenizer=tokenizer_gpt), axis=1)\n",
    "#print(f\"max number of tokens for GPT2 is {np.max(df['tokens_gpt2'])}\")\n"
   ]
  },
  {
   "cell_type": "code",
   "execution_count": 5,
   "id": "1c9227ce",
   "metadata": {},
   "outputs": [
    {
     "data": {
      "text/html": [
       "<div>\n",
       "<style scoped>\n",
       "    .dataframe tbody tr th:only-of-type {\n",
       "        vertical-align: middle;\n",
       "    }\n",
       "\n",
       "    .dataframe tbody tr th {\n",
       "        vertical-align: top;\n",
       "    }\n",
       "\n",
       "    .dataframe thead th {\n",
       "        text-align: right;\n",
       "    }\n",
       "</style>\n",
       "<table border=\"1\" class=\"dataframe\">\n",
       "  <thead>\n",
       "    <tr style=\"text-align: right;\">\n",
       "      <th></th>\n",
       "      <th>text</th>\n",
       "      <th>target</th>\n",
       "      <th>tokens_t5</th>\n",
       "    </tr>\n",
       "  </thead>\n",
       "  <tbody>\n",
       "    <tr>\n",
       "      <th>20025</th>\n",
       "      <td>City: Ferrara. Trips: (Time: 52180. Vehicle: b...</td>\n",
       "      <td>bike</td>\n",
       "      <td>461</td>\n",
       "    </tr>\n",
       "    <tr>\n",
       "      <th>49760</th>\n",
       "      <td>City: Lecco. Trips: (Time: 12899. Vehicle: bus...</td>\n",
       "      <td>bus</td>\n",
       "      <td>473</td>\n",
       "    </tr>\n",
       "    <tr>\n",
       "      <th>47090</th>\n",
       "      <td>City: Lecco. Trips: (Time: 30603. Vehicle: wal...</td>\n",
       "      <td>walk</td>\n",
       "      <td>455</td>\n",
       "    </tr>\n",
       "    <tr>\n",
       "      <th>35772</th>\n",
       "      <td>City: Lecco. Trips: (Time: 14794. Vehicle: wal...</td>\n",
       "      <td>walk</td>\n",
       "      <td>467</td>\n",
       "    </tr>\n",
       "    <tr>\n",
       "      <th>27034</th>\n",
       "      <td>City: Lecco. Trips: (Time: 32251. Vehicle: bik...</td>\n",
       "      <td>bus</td>\n",
       "      <td>456</td>\n",
       "    </tr>\n",
       "    <tr>\n",
       "      <th>231</th>\n",
       "      <td>City: Ferrara. Trips: (Time: 50360. Vehicle: b...</td>\n",
       "      <td>bike</td>\n",
       "      <td>457</td>\n",
       "    </tr>\n",
       "    <tr>\n",
       "      <th>28326</th>\n",
       "      <td>City: Ferrara. Trips: (Time: 54150. Vehicle: b...</td>\n",
       "      <td>bike</td>\n",
       "      <td>461</td>\n",
       "    </tr>\n",
       "    <tr>\n",
       "      <th>42554</th>\n",
       "      <td>City: Ferrara. Trips: (Time: 49736. Vehicle: b...</td>\n",
       "      <td>bike</td>\n",
       "      <td>456</td>\n",
       "    </tr>\n",
       "    <tr>\n",
       "      <th>7028</th>\n",
       "      <td>City: Ferrara. Trips: (Time: 46242. Vehicle: b...</td>\n",
       "      <td>bike</td>\n",
       "      <td>455</td>\n",
       "    </tr>\n",
       "    <tr>\n",
       "      <th>21363</th>\n",
       "      <td>City: Ferrara. Trips: (Time: 55956. Vehicle: b...</td>\n",
       "      <td>bus</td>\n",
       "      <td>472</td>\n",
       "    </tr>\n",
       "  </tbody>\n",
       "</table>\n",
       "</div>"
      ],
      "text/plain": [
       "                                                    text target  tokens_t5\n",
       "20025  City: Ferrara. Trips: (Time: 52180. Vehicle: b...   bike        461\n",
       "49760  City: Lecco. Trips: (Time: 12899. Vehicle: bus...    bus        473\n",
       "47090  City: Lecco. Trips: (Time: 30603. Vehicle: wal...   walk        455\n",
       "35772  City: Lecco. Trips: (Time: 14794. Vehicle: wal...   walk        467\n",
       "27034  City: Lecco. Trips: (Time: 32251. Vehicle: bik...    bus        456\n",
       "231    City: Ferrara. Trips: (Time: 50360. Vehicle: b...   bike        457\n",
       "28326  City: Ferrara. Trips: (Time: 54150. Vehicle: b...   bike        461\n",
       "42554  City: Ferrara. Trips: (Time: 49736. Vehicle: b...   bike        456\n",
       "7028   City: Ferrara. Trips: (Time: 46242. Vehicle: b...   bike        455\n",
       "21363  City: Ferrara. Trips: (Time: 55956. Vehicle: b...    bus        472"
      ]
     },
     "execution_count": 5,
     "metadata": {},
     "output_type": "execute_result"
    }
   ],
   "source": [
    "df.sample(10)"
   ]
  }
 ],
 "metadata": {
  "kernelspec": {
   "display_name": "Python 3",
   "language": "python",
   "name": "python3"
  },
  "language_info": {
   "codemirror_mode": {
    "name": "ipython",
    "version": 3
   },
   "file_extension": ".py",
   "mimetype": "text/x-python",
   "name": "python",
   "nbconvert_exporter": "python",
   "pygments_lexer": "ipython3",
   "version": "3.6.9"
  }
 },
 "nbformat": 4,
 "nbformat_minor": 5
}
