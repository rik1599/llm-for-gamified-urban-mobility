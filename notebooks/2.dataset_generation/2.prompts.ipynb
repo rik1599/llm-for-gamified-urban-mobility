{
 "cells": [
  {
   "cell_type": "code",
   "execution_count": 6,
   "metadata": {},
   "outputs": [],
   "source": [
    "from tqdm.notebook import tqdm\n",
    "import pandas as pd\n",
    "\n",
    "tqdm.pandas()"
   ]
  },
  {
   "cell_type": "code",
   "execution_count": 7,
   "metadata": {},
   "outputs": [
    {
     "data": {
      "text/html": [
       "<div>\n",
       "<style scoped>\n",
       "    .dataframe tbody tr th:only-of-type {\n",
       "        vertical-align: middle;\n",
       "    }\n",
       "\n",
       "    .dataframe tbody tr th {\n",
       "        vertical-align: top;\n",
       "    }\n",
       "\n",
       "    .dataframe thead th {\n",
       "        text-align: right;\n",
       "    }\n",
       "</style>\n",
       "<table border=\"1\" class=\"dataframe\">\n",
       "  <thead>\n",
       "    <tr style=\"text-align: right;\">\n",
       "      <th></th>\n",
       "      <th>playerId</th>\n",
       "      <th>startTime</th>\n",
       "      <th>bike</th>\n",
       "      <th>bus</th>\n",
       "      <th>car</th>\n",
       "      <th>train</th>\n",
       "      <th>walk</th>\n",
       "      <th>counterName</th>\n",
       "      <th>target</th>\n",
       "      <th>periodTarget</th>\n",
       "      <th>state</th>\n",
       "    </tr>\n",
       "  </thead>\n",
       "  <tbody>\n",
       "    <tr>\n",
       "      <th>0</th>\n",
       "      <td>u_0bea6988-bd00-4aa6-a456-4285744356ee</td>\n",
       "      <td>2023-04-23</td>\n",
       "      <td>0</td>\n",
       "      <td>0</td>\n",
       "      <td>0</td>\n",
       "      <td>0</td>\n",
       "      <td>0</td>\n",
       "      <td>Walk_Km</td>\n",
       "      <td>1</td>\n",
       "      <td>0</td>\n",
       "      <td>COMPLETED</td>\n",
       "    </tr>\n",
       "    <tr>\n",
       "      <th>1</th>\n",
       "      <td>u_0bea6988-bd00-4aa6-a456-4285744356ee</td>\n",
       "      <td>2023-04-23</td>\n",
       "      <td>0</td>\n",
       "      <td>0</td>\n",
       "      <td>0</td>\n",
       "      <td>0</td>\n",
       "      <td>0</td>\n",
       "      <td>green_leaves</td>\n",
       "      <td>30</td>\n",
       "      <td>2</td>\n",
       "      <td>COMPLETED</td>\n",
       "    </tr>\n",
       "    <tr>\n",
       "      <th>2</th>\n",
       "      <td>u_1636dfdc-fbcc-4068-8fcd-3293369c3a82</td>\n",
       "      <td>2023-04-23</td>\n",
       "      <td>0</td>\n",
       "      <td>0</td>\n",
       "      <td>0</td>\n",
       "      <td>0</td>\n",
       "      <td>0</td>\n",
       "      <td>Walk_Km</td>\n",
       "      <td>1</td>\n",
       "      <td>0</td>\n",
       "      <td>COMPLETED</td>\n",
       "    </tr>\n",
       "    <tr>\n",
       "      <th>3</th>\n",
       "      <td>u_1636dfdc-fbcc-4068-8fcd-3293369c3a82</td>\n",
       "      <td>2023-04-23</td>\n",
       "      <td>0</td>\n",
       "      <td>0</td>\n",
       "      <td>0</td>\n",
       "      <td>0</td>\n",
       "      <td>0</td>\n",
       "      <td>green_leaves</td>\n",
       "      <td>30</td>\n",
       "      <td>2</td>\n",
       "      <td>COMPLETED</td>\n",
       "    </tr>\n",
       "    <tr>\n",
       "      <th>4</th>\n",
       "      <td>u_2fe7aac8-07da-4d38-8b0a-978be1986ebf</td>\n",
       "      <td>2023-04-23</td>\n",
       "      <td>0</td>\n",
       "      <td>0</td>\n",
       "      <td>0</td>\n",
       "      <td>0</td>\n",
       "      <td>0</td>\n",
       "      <td>Walk_Km</td>\n",
       "      <td>1</td>\n",
       "      <td>0</td>\n",
       "      <td>COMPLETED</td>\n",
       "    </tr>\n",
       "    <tr>\n",
       "      <th>...</th>\n",
       "      <td>...</td>\n",
       "      <td>...</td>\n",
       "      <td>...</td>\n",
       "      <td>...</td>\n",
       "      <td>...</td>\n",
       "      <td>...</td>\n",
       "      <td>...</td>\n",
       "      <td>...</td>\n",
       "      <td>...</td>\n",
       "      <td>...</td>\n",
       "      <td>...</td>\n",
       "    </tr>\n",
       "    <tr>\n",
       "      <th>6011</th>\n",
       "      <td>u_f4b95ec9-5f53-48d8-8adf-fa61be00c967</td>\n",
       "      <td>2023-09-17</td>\n",
       "      <td>106</td>\n",
       "      <td>0</td>\n",
       "      <td>0</td>\n",
       "      <td>0</td>\n",
       "      <td>6</td>\n",
       "      <td>Bike_Km</td>\n",
       "      <td>1</td>\n",
       "      <td>0</td>\n",
       "      <td>COMPLETED</td>\n",
       "    </tr>\n",
       "    <tr>\n",
       "      <th>6012</th>\n",
       "      <td>u_f4b95ec9-5f53-48d8-8adf-fa61be00c967</td>\n",
       "      <td>2023-09-17</td>\n",
       "      <td>106</td>\n",
       "      <td>0</td>\n",
       "      <td>0</td>\n",
       "      <td>0</td>\n",
       "      <td>6</td>\n",
       "      <td>green_leaves</td>\n",
       "      <td>3</td>\n",
       "      <td>5</td>\n",
       "      <td>COMPLETED</td>\n",
       "    </tr>\n",
       "    <tr>\n",
       "      <th>6013</th>\n",
       "      <td>u_f6a7cd70958e448f829591bbf6a90ec8</td>\n",
       "      <td>2023-09-17</td>\n",
       "      <td>22</td>\n",
       "      <td>0</td>\n",
       "      <td>0</td>\n",
       "      <td>0</td>\n",
       "      <td>0</td>\n",
       "      <td>green_leaves</td>\n",
       "      <td>30</td>\n",
       "      <td>2</td>\n",
       "      <td>COMPLETED</td>\n",
       "    </tr>\n",
       "    <tr>\n",
       "      <th>6014</th>\n",
       "      <td>u_f9994c4795f34970addeb5d3ca8ed1ab</td>\n",
       "      <td>2023-09-17</td>\n",
       "      <td>41</td>\n",
       "      <td>0</td>\n",
       "      <td>0</td>\n",
       "      <td>0</td>\n",
       "      <td>0</td>\n",
       "      <td>green_leaves</td>\n",
       "      <td>45</td>\n",
       "      <td>2</td>\n",
       "      <td>COMPLETED</td>\n",
       "    </tr>\n",
       "    <tr>\n",
       "      <th>6015</th>\n",
       "      <td>u_fa4965a5298e44e985afad963ee4acc8</td>\n",
       "      <td>2023-09-17</td>\n",
       "      <td>68</td>\n",
       "      <td>0</td>\n",
       "      <td>0</td>\n",
       "      <td>366</td>\n",
       "      <td>0</td>\n",
       "      <td>Walk_Km</td>\n",
       "      <td>1</td>\n",
       "      <td>0</td>\n",
       "      <td>COMPLETED</td>\n",
       "    </tr>\n",
       "  </tbody>\n",
       "</table>\n",
       "<p>6016 rows × 11 columns</p>\n",
       "</div>"
      ],
      "text/plain": [
       "                                    playerId  startTime  bike  bus  car  \\\n",
       "0     u_0bea6988-bd00-4aa6-a456-4285744356ee 2023-04-23     0    0    0   \n",
       "1     u_0bea6988-bd00-4aa6-a456-4285744356ee 2023-04-23     0    0    0   \n",
       "2     u_1636dfdc-fbcc-4068-8fcd-3293369c3a82 2023-04-23     0    0    0   \n",
       "3     u_1636dfdc-fbcc-4068-8fcd-3293369c3a82 2023-04-23     0    0    0   \n",
       "4     u_2fe7aac8-07da-4d38-8b0a-978be1986ebf 2023-04-23     0    0    0   \n",
       "...                                      ...        ...   ...  ...  ...   \n",
       "6011  u_f4b95ec9-5f53-48d8-8adf-fa61be00c967 2023-09-17   106    0    0   \n",
       "6012  u_f4b95ec9-5f53-48d8-8adf-fa61be00c967 2023-09-17   106    0    0   \n",
       "6013      u_f6a7cd70958e448f829591bbf6a90ec8 2023-09-17    22    0    0   \n",
       "6014      u_f9994c4795f34970addeb5d3ca8ed1ab 2023-09-17    41    0    0   \n",
       "6015      u_fa4965a5298e44e985afad963ee4acc8 2023-09-17    68    0    0   \n",
       "\n",
       "      train  walk   counterName  target  periodTarget      state  \n",
       "0         0     0       Walk_Km       1             0  COMPLETED  \n",
       "1         0     0  green_leaves      30             2  COMPLETED  \n",
       "2         0     0       Walk_Km       1             0  COMPLETED  \n",
       "3         0     0  green_leaves      30             2  COMPLETED  \n",
       "4         0     0       Walk_Km       1             0  COMPLETED  \n",
       "...     ...   ...           ...     ...           ...        ...  \n",
       "6011      0     6       Bike_Km       1             0  COMPLETED  \n",
       "6012      0     6  green_leaves       3             5  COMPLETED  \n",
       "6013      0     0  green_leaves      30             2  COMPLETED  \n",
       "6014      0     0  green_leaves      45             2  COMPLETED  \n",
       "6015    366     0       Walk_Km       1             0  COMPLETED  \n",
       "\n",
       "[6016 rows x 11 columns]"
      ]
     },
     "execution_count": 7,
     "metadata": {},
     "output_type": "execute_result"
    }
   ],
   "source": [
    "df = pd.read_parquet('../../out/parquet/raw.parquet')\n",
    "df"
   ]
  },
  {
   "cell_type": "code",
   "execution_count": 8,
   "metadata": {},
   "outputs": [],
   "source": [
    "def challenge_to_text(counterName, target, periodTarget):\n",
    "    d = {\n",
    "        \"Walk_Km\": f\"Walk at least {target} Km\",\n",
    "        \"Bike_Km\": f\"Bike at least {target} Km\",\n",
    "        \"green_leaves\": f\"Collect at least {target} points\",\n",
    "    }\n",
    "    pt = f\" per day for {periodTarget} days a week\" if periodTarget > 1 else \" during the week\"\n",
    "\n",
    "    return d[counterName] + pt\n",
    "\n",
    "def row_to_text(row, y='<M>'):\n",
    "    return f\"On {row['startTime'].strftime('%B %d %Y')} the value of \\\"{challenge_to_text(row['counterName'], row['target'], row['periodTarget'])}\\\" is {y}.\"\n",
    "\n",
    "def prompts(x: pd.DataFrame, last_week: pd.Timestamp):\n",
    "    to_predict = x[x['startTime'] == last_week]\n",
    "    if to_predict.empty:\n",
    "        return pd.DataFrame()\n",
    "    \n",
    "    to_sequence = x[x['startTime'] < last_week].sort_values('startTime')\n",
    "    history = '\\n'.join([\n",
    "        row_to_text(row, row['state'])\n",
    "        for _, row in to_sequence.iterrows()\n",
    "    ]) + '\\n' if not to_sequence.empty else ''\n",
    "    prompts = [\n",
    "        f\"{history}{row_to_text(row)}\"\n",
    "        for _, row in to_predict.iterrows()\n",
    "    ]\n",
    "\n",
    "    return pd.DataFrame({'X': prompts, 'y': to_predict['state'], 'cut': last_week})"
   ]
  },
  {
   "cell_type": "code",
   "execution_count": 9,
   "metadata": {},
   "outputs": [
    {
     "name": "stderr",
     "output_type": "stream",
     "text": [
      "/home/riccardo/repos/master-recsys/.conda/lib/python3.10/site-packages/transformers/models/t5/tokenization_t5_fast.py:171: FutureWarning: This tokenizer was incorrectly instantiated with a model max length of 512 which will be corrected in Transformers v5.\n",
      "For now, this behavior is kept to avoid breaking backwards compatibility when padding/encoding with `truncation is True`.\n",
      "- Be aware that you SHOULD NOT rely on google-t5/t5-base automatically truncating your input to 512 when padding/encoding.\n",
      "- If you want to encode/pad to sequences longer than 512 you can either instantiate this tokenizer with `model_max_length` or pass `max_length` when encoding/padding.\n",
      "- To avoid this warning, please instantiate this tokenizer with `model_max_length` set to your preferred value.\n",
      "  warnings.warn(\n"
     ]
    },
    {
     "data": {
      "application/vnd.jupyter.widget-view+json": {
       "model_id": "5f422eabd23548c794aaabfc58ba7daf",
       "version_major": 2,
       "version_minor": 0
      },
      "text/plain": [
       "  0%|          | 0/22 [00:00<?, ?it/s]"
      ]
     },
     "metadata": {},
     "output_type": "display_data"
    },
    {
     "data": {
      "application/vnd.jupyter.widget-view+json": {
       "model_id": "390d52d10e324b1da60dbb2017bcb785",
       "version_major": 2,
       "version_minor": 0
      },
      "text/plain": [
       "  0%|          | 0/6016 [00:00<?, ?it/s]"
      ]
     },
     "metadata": {},
     "output_type": "display_data"
    },
    {
     "data": {
      "application/vnd.jupyter.widget-view+json": {
       "model_id": "c0de94bc417f47bb8c2907e1c716782a",
       "version_major": 2,
       "version_minor": 0
      },
      "text/plain": [
       "  0%|          | 0/22 [00:00<?, ?it/s]"
      ]
     },
     "metadata": {},
     "output_type": "display_data"
    },
    {
     "data": {
      "application/vnd.jupyter.widget-view+json": {
       "model_id": "943a7c3ebd5a45f4a21d6f812eb8fb91",
       "version_major": 2,
       "version_minor": 0
      },
      "text/plain": [
       "  0%|          | 0/6016 [00:00<?, ?it/s]"
      ]
     },
     "metadata": {},
     "output_type": "display_data"
    },
    {
     "data": {
      "application/vnd.jupyter.widget-view+json": {
       "model_id": "465843b583234448852a64eb85034446",
       "version_major": 2,
       "version_minor": 0
      },
      "text/plain": [
       "  0%|          | 0/22 [00:00<?, ?it/s]"
      ]
     },
     "metadata": {},
     "output_type": "display_data"
    },
    {
     "data": {
      "application/vnd.jupyter.widget-view+json": {
       "model_id": "730f0f8f34b7490fb03c0afbffa65c3c",
       "version_major": 2,
       "version_minor": 0
      },
      "text/plain": [
       "  0%|          | 0/6016 [00:00<?, ?it/s]"
      ]
     },
     "metadata": {},
     "output_type": "display_data"
    },
    {
     "data": {
      "application/vnd.jupyter.widget-view+json": {
       "model_id": "c466d9e8a3c74c11b838cf0e8da84ce3",
       "version_major": 2,
       "version_minor": 0
      },
      "text/plain": [
       "  0%|          | 0/22 [00:00<?, ?it/s]"
      ]
     },
     "metadata": {},
     "output_type": "display_data"
    },
    {
     "data": {
      "application/vnd.jupyter.widget-view+json": {
       "model_id": "83c3d463d16e4b478e0b6a95bf143527",
       "version_major": 2,
       "version_minor": 0
      },
      "text/plain": [
       "  0%|          | 0/6016 [00:00<?, ?it/s]"
      ]
     },
     "metadata": {},
     "output_type": "display_data"
    }
   ],
   "source": [
    "from transformers import AutoTokenizer\n",
    "\n",
    "tokenizer = AutoTokenizer.from_pretrained(\"google-t5/t5-base\")\n",
    "\n",
    "lens = [2, 3, 4, 5]\n",
    "for l in lens:\n",
    "    windows = list(pd.Series(df['startTime'].sort_values().unique()).rolling(l))\n",
    "\n",
    "    prompts_df = pd.concat([\n",
    "        df[df['startTime'].isin(w)].groupby('playerId').apply(prompts, include_groups=False, last_week=max(w))\n",
    "        for w in tqdm(windows)\n",
    "    ]).reset_index(drop=True)\n",
    "    \n",
    "    prompts_df['token'] = prompts_df['X'].progress_apply(lambda x: len(tokenizer.tokenize(x)))\n",
    "    \n",
    "    if prompts_df['token'].max() > 512:\n",
    "        print(f\"There are prompts with more than 512 tokens for l={l}!\")\n",
    "\n",
    "    prompts_df[['X', 'y', 'cut']].to_parquet(f'../../out/parquet/prompts_{l}.parquet')"
   ]
  },
  {
   "cell_type": "code",
   "execution_count": 10,
   "metadata": {},
   "outputs": [
    {
     "data": {
      "text/plain": [
       "array(['On May 21 2023 the value of \"Walk at least 1 Km during the week\" is COMPLETED.\\nOn May 21 2023 the value of \"Collect at least 14 points per day for 3 days a week\" is COMPLETED.\\nOn May 28 2023 the value of \"Walk at least 1 Km during the week\" is COMPLETED.\\nOn May 28 2023 the value of \"Collect at least 13 points per day for 3 days a week\" is COMPLETED.\\nOn June 04 2023 the value of \"Walk at least 1 Km during the week\" is FAILED.\\nOn June 04 2023 the value of \"Collect at least 8 points per day for 3 days a week\" is COMPLETED.\\nOn June 11 2023 the value of \"Walk at least 1 Km during the week\" is <M>.',\n",
       "       'On June 18 2023 the value of \"Walk at least 1 Km during the week\" is COMPLETED.\\nOn June 18 2023 the value of \"Collect at least 2 points per day for 6 days a week\" is FAILED.\\nOn June 25 2023 the value of \"Walk at least 1 Km during the week\" is COMPLETED.\\nOn June 25 2023 the value of \"Collect at least 45 points per day for 2 days a week\" is COMPLETED.\\nOn July 02 2023 the value of \"Walk at least 1 Km during the week\" is COMPLETED.\\nOn July 02 2023 the value of \"Collect at least 45 points per day for 2 days a week\" is COMPLETED.\\nOn July 09 2023 the value of \"Walk at least 1 Km during the week\" is FAILED.\\nOn July 09 2023 the value of \"Collect at least 30 points per day for 2 days a week\" is FAILED.\\nOn July 16 2023 the value of \"Collect at least 60 points per day for 3 days a week\" is <M>.',\n",
       "       'On July 23 2023 the value of \"Walk at least 1 Km during the week\" is FAILED.\\nOn July 23 2023 the value of \"Collect at least 1 points per day for 2 days a week\" is FAILED.\\nOn July 30 2023 the value of \"Walk at least 1 Km during the week\" is FAILED.\\nOn July 30 2023 the value of \"Collect at least 1 points per day for 2 days a week\" is FAILED.\\nOn August 06 2023 the value of \"Walk at least 1 Km during the week\" is FAILED.\\nOn August 06 2023 the value of \"Collect at least 45 points per day for 2 days a week\" is FAILED.\\nOn August 13 2023 the value of \"Walk at least 1 Km during the week\" is FAILED.\\nOn August 13 2023 the value of \"Collect at least 30 points per day for 2 days a week\" is FAILED.\\nOn August 20 2023 the value of \"Walk at least 1 Km during the week\" is <M>.',\n",
       "       'On May 21 2023 the value of \"Walk at least 1 Km during the week\" is COMPLETED.\\nOn May 21 2023 the value of \"Collect at least 30 points per day for 2 days a week\" is COMPLETED.\\nOn May 28 2023 the value of \"Walk at least 1 Km during the week\" is COMPLETED.\\nOn May 28 2023 the value of \"Collect at least 30 points per day for 2 days a week\" is COMPLETED.\\nOn June 04 2023 the value of \"Walk at least 1 Km during the week\" is COMPLETED.\\nOn June 04 2023 the value of \"Collect at least 45 points per day for 2 days a week\" is COMPLETED.\\nOn June 11 2023 the value of \"Walk at least 1 Km during the week\" is COMPLETED.\\nOn June 11 2023 the value of \"Collect at least 45 points per day for 3 days a week\" is COMPLETED.\\nOn June 18 2023 the value of \"Collect at least 45 points per day for 3 days a week\" is <M>.',\n",
       "       'On July 02 2023 the value of \"Walk at least 1 Km during the week\" is FAILED.\\nOn July 02 2023 the value of \"Collect at least 30 points per day for 2 days a week\" is COMPLETED.\\nOn July 09 2023 the value of \"Walk at least 1 Km during the week\" is FAILED.\\nOn July 09 2023 the value of \"Collect at least 30 points per day for 2 days a week\" is COMPLETED.\\nOn July 16 2023 the value of \"Collect at least 45 points per day for 2 days a week\" is <M>.'],\n",
       "      dtype=object)"
      ]
     },
     "execution_count": 10,
     "metadata": {},
     "output_type": "execute_result"
    }
   ],
   "source": [
    "prompts_df['X'].sample(5).values"
   ]
  }
 ],
 "metadata": {
  "kernelspec": {
   "display_name": "Python 3",
   "language": "python",
   "name": "python3"
  },
  "language_info": {
   "codemirror_mode": {
    "name": "ipython",
    "version": 3
   },
   "file_extension": ".py",
   "mimetype": "text/x-python",
   "name": "python",
   "nbconvert_exporter": "python",
   "pygments_lexer": "ipython3",
   "version": "3.10.13"
  }
 },
 "nbformat": 4,
 "nbformat_minor": 2
}
